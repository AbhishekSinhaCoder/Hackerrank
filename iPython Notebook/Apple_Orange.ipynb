{
 "cells": [
  {
   "cell_type": "code",
   "execution_count": 1,
   "metadata": {
    "collapsed": false
   },
   "outputs": [
    {
     "name": "stdout",
     "output_type": "stream",
     "text": [
      "7 11\n",
      "5 15\n",
      "3 2\n",
      "-2 2 1\n",
      "5 -6\n",
      "1\n",
      "1\n"
     ]
    }
   ],
   "source": [
    "# Solution to Hackerrank Problem at:\n",
    "# https://www.hackerrank.com/challenges/apple-and-orange\n",
    "\n",
    "\n",
    "##S - house starting\n",
    "##t - house ending\n",
    "s,t = input().strip().split(' ')\n",
    "s,t = [int(s),int(t)]\n",
    "\n",
    "##a - apple tree location\n",
    "##b - orange tree location\n",
    "a,b = input().strip().split(' ')\n",
    "a,b = [int(a),int(b)]\n",
    "\n",
    "# m - number of apples\n",
    "# n - number of oranges\n",
    "m,n = input().strip().split(' ')\n",
    "m,n = [int(m),int(n)]\n",
    "\n",
    "\n",
    "# apple - distance from apple tree\n",
    "# orange - distance from orange tree\n",
    "apple = [int(apple_temp) for apple_temp in input().strip().split(' ')]\n",
    "orange = [int(orange_temp) for orange_temp in input().strip().split(' ')]\n",
    "\n",
    "sum1 = 0\n",
    "sum2 = 0\n",
    "\n",
    "for num1 in apple:\n",
    "    if a + num1 >= s and a + num1 <= t:\n",
    "        sum1 += 1\n",
    "for num2 in orange:\n",
    "    if b + num2 >= s and b + num2 <= t:\n",
    "        sum2 += 1\n",
    "\n",
    "print(sum1)\n",
    "print(sum2)"
   ]
  },
  {
   "cell_type": "code",
   "execution_count": null,
   "metadata": {
    "collapsed": true
   },
   "outputs": [],
   "source": []
  }
 ],
 "metadata": {
  "kernelspec": {
   "display_name": "Python 3",
   "language": "python",
   "name": "python3"
  },
  "language_info": {
   "codemirror_mode": {
    "name": "ipython",
    "version": 3
   },
   "file_extension": ".py",
   "mimetype": "text/x-python",
   "name": "python",
   "nbconvert_exporter": "python",
   "pygments_lexer": "ipython3",
   "version": "3.5.2"
  }
 },
 "nbformat": 4,
 "nbformat_minor": 1
}
